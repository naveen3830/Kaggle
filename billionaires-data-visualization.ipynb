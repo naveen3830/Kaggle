{
 "cells": [
  {
   "cell_type": "code",
   "execution_count": 6,
   "id": "75a9e650",
   "metadata": {
    "_cell_guid": "b1076dfc-b9ad-4769-8c92-a6c4dae69d19",
    "_uuid": "8f2839f25d086af736a60e9eeb907d3b93b6e0e5",
    "execution": {
     "iopub.execute_input": "2023-11-20T16:02:15.845743Z",
     "iopub.status.busy": "2023-11-20T16:02:15.845102Z",
     "iopub.status.idle": "2023-11-20T16:02:16.781785Z",
     "shell.execute_reply": "2023-11-20T16:02:16.780333Z"
    },
    "papermill": {
     "duration": 0.951854,
     "end_time": "2023-11-20T16:02:16.784913",
     "exception": false,
     "start_time": "2023-11-20T16:02:15.833059",
     "status": "completed"
    },
    "tags": []
   },
   "outputs": [],
   "source": [
    "# This Python 3 environment comes with many helpful analytics libraries installed\n",
    "# It is defined by the kaggle/python Docker image: https://github.com/kaggle/docker-python\n",
    "# For example, here's several helpful packages to load\n",
    "\n",
    "import numpy as np # linear algebra\n",
    "import pandas as pd # data processing, CSV file I/O (e.g. pd.read_csv)\n",
    "\n",
    "# Input data files are available in the read-only \"../input/\" directory\n",
    "# For example, running this (by clicking run or pressing Shift+Enter) will list all files under the input directory\n",
    "\n",
    "import os\n",
    "for dirname, _, filenames in os.walk('/kaggle/input'):\n",
    "    for filename in filenames:\n",
    "        print(os.path.join(dirname, filename))\n",
    "import warnings\n",
    "\n",
    "# Ignore all warnings\n",
    "warnings.simplefilter(\"ignore\")\n",
    "# You can write up to 20GB to the current directory (/kaggle/working/) that gets preserved as output when you create a version using \"Save & Run All\" \n",
    "# You can also write temporary files to /kaggle/temp/, but they won't be saved outside of the current session"
   ]
  },
  {
   "cell_type": "code",
   "execution_count": 7,
   "id": "a1760cf7",
   "metadata": {
    "execution": {
     "iopub.execute_input": "2023-11-20T16:02:16.808021Z",
     "iopub.status.busy": "2023-11-20T16:02:16.807440Z",
     "iopub.status.idle": "2023-11-20T16:02:18.658235Z",
     "shell.execute_reply": "2023-11-20T16:02:18.656791Z"
    },
    "papermill": {
     "duration": 1.865542,
     "end_time": "2023-11-20T16:02:18.661412",
     "exception": false,
     "start_time": "2023-11-20T16:02:16.795870",
     "status": "completed"
    },
    "tags": []
   },
   "outputs": [],
   "source": [
    "import numpy as np\n",
    "import pandas as pd\n",
    "import matplotlib.pyplot as plt\n",
    "import seaborn as sns"
   ]
  },
  {
   "cell_type": "markdown",
   "id": "19e6cf4b",
   "metadata": {
    "papermill": {
     "duration": 0.009724,
     "end_time": "2023-11-20T16:02:18.681380",
     "exception": false,
     "start_time": "2023-11-20T16:02:18.671656",
     "status": "completed"
    },
    "tags": []
   },
   "source": [
    "# Data Summary"
   ]
  },
  {
   "cell_type": "code",
   "execution_count": 8,
   "id": "f0fa1f4b",
   "metadata": {
    "execution": {
     "iopub.execute_input": "2023-11-20T16:02:18.704895Z",
     "iopub.status.busy": "2023-11-20T16:02:18.703719Z",
     "iopub.status.idle": "2023-11-20T16:02:18.812705Z",
     "shell.execute_reply": "2023-11-20T16:02:18.811532Z"
    },
    "papermill": {
     "duration": 0.124412,
     "end_time": "2023-11-20T16:02:18.815811",
     "exception": false,
     "start_time": "2023-11-20T16:02:18.691399",
     "status": "completed"
    },
    "tags": []
   },
   "outputs": [
    {
     "data": {
      "text/html": [
       "<div>\n",
       "<style scoped>\n",
       "    .dataframe tbody tr th:only-of-type {\n",
       "        vertical-align: middle;\n",
       "    }\n",
       "\n",
       "    .dataframe tbody tr th {\n",
       "        vertical-align: top;\n",
       "    }\n",
       "\n",
       "    .dataframe thead th {\n",
       "        text-align: right;\n",
       "    }\n",
       "</style>\n",
       "<table border=\"1\" class=\"dataframe\">\n",
       "  <thead>\n",
       "    <tr style=\"text-align: right;\">\n",
       "      <th></th>\n",
       "      <th>rank</th>\n",
       "      <th>finalWorth</th>\n",
       "      <th>category</th>\n",
       "      <th>personName</th>\n",
       "      <th>age</th>\n",
       "      <th>country</th>\n",
       "      <th>city</th>\n",
       "      <th>source</th>\n",
       "      <th>industries</th>\n",
       "      <th>countryOfCitizenship</th>\n",
       "      <th>...</th>\n",
       "      <th>cpi_change_country</th>\n",
       "      <th>gdp_country</th>\n",
       "      <th>gross_tertiary_education_enrollment</th>\n",
       "      <th>gross_primary_education_enrollment_country</th>\n",
       "      <th>life_expectancy_country</th>\n",
       "      <th>tax_revenue_country_country</th>\n",
       "      <th>total_tax_rate_country</th>\n",
       "      <th>population_country</th>\n",
       "      <th>latitude_country</th>\n",
       "      <th>longitude_country</th>\n",
       "    </tr>\n",
       "  </thead>\n",
       "  <tbody>\n",
       "    <tr>\n",
       "      <th>0</th>\n",
       "      <td>1</td>\n",
       "      <td>211000</td>\n",
       "      <td>Fashion &amp; Retail</td>\n",
       "      <td>Bernard Arnault &amp; family</td>\n",
       "      <td>74.0</td>\n",
       "      <td>France</td>\n",
       "      <td>Paris</td>\n",
       "      <td>LVMH</td>\n",
       "      <td>Fashion &amp; Retail</td>\n",
       "      <td>France</td>\n",
       "      <td>...</td>\n",
       "      <td>1.1</td>\n",
       "      <td>$2,715,518,274,227</td>\n",
       "      <td>65.6</td>\n",
       "      <td>102.5</td>\n",
       "      <td>82.5</td>\n",
       "      <td>24.2</td>\n",
       "      <td>60.7</td>\n",
       "      <td>6.705989e+07</td>\n",
       "      <td>46.227638</td>\n",
       "      <td>2.213749</td>\n",
       "    </tr>\n",
       "    <tr>\n",
       "      <th>1</th>\n",
       "      <td>2</td>\n",
       "      <td>180000</td>\n",
       "      <td>Automotive</td>\n",
       "      <td>Elon Musk</td>\n",
       "      <td>51.0</td>\n",
       "      <td>United States</td>\n",
       "      <td>Austin</td>\n",
       "      <td>Tesla, SpaceX</td>\n",
       "      <td>Automotive</td>\n",
       "      <td>United States</td>\n",
       "      <td>...</td>\n",
       "      <td>7.5</td>\n",
       "      <td>$21,427,700,000,000</td>\n",
       "      <td>88.2</td>\n",
       "      <td>101.8</td>\n",
       "      <td>78.5</td>\n",
       "      <td>9.6</td>\n",
       "      <td>36.6</td>\n",
       "      <td>3.282395e+08</td>\n",
       "      <td>37.090240</td>\n",
       "      <td>-95.712891</td>\n",
       "    </tr>\n",
       "    <tr>\n",
       "      <th>2</th>\n",
       "      <td>3</td>\n",
       "      <td>114000</td>\n",
       "      <td>Technology</td>\n",
       "      <td>Jeff Bezos</td>\n",
       "      <td>59.0</td>\n",
       "      <td>United States</td>\n",
       "      <td>Medina</td>\n",
       "      <td>Amazon</td>\n",
       "      <td>Technology</td>\n",
       "      <td>United States</td>\n",
       "      <td>...</td>\n",
       "      <td>7.5</td>\n",
       "      <td>$21,427,700,000,000</td>\n",
       "      <td>88.2</td>\n",
       "      <td>101.8</td>\n",
       "      <td>78.5</td>\n",
       "      <td>9.6</td>\n",
       "      <td>36.6</td>\n",
       "      <td>3.282395e+08</td>\n",
       "      <td>37.090240</td>\n",
       "      <td>-95.712891</td>\n",
       "    </tr>\n",
       "    <tr>\n",
       "      <th>3</th>\n",
       "      <td>4</td>\n",
       "      <td>107000</td>\n",
       "      <td>Technology</td>\n",
       "      <td>Larry Ellison</td>\n",
       "      <td>78.0</td>\n",
       "      <td>United States</td>\n",
       "      <td>Lanai</td>\n",
       "      <td>Oracle</td>\n",
       "      <td>Technology</td>\n",
       "      <td>United States</td>\n",
       "      <td>...</td>\n",
       "      <td>7.5</td>\n",
       "      <td>$21,427,700,000,000</td>\n",
       "      <td>88.2</td>\n",
       "      <td>101.8</td>\n",
       "      <td>78.5</td>\n",
       "      <td>9.6</td>\n",
       "      <td>36.6</td>\n",
       "      <td>3.282395e+08</td>\n",
       "      <td>37.090240</td>\n",
       "      <td>-95.712891</td>\n",
       "    </tr>\n",
       "    <tr>\n",
       "      <th>4</th>\n",
       "      <td>5</td>\n",
       "      <td>106000</td>\n",
       "      <td>Finance &amp; Investments</td>\n",
       "      <td>Warren Buffett</td>\n",
       "      <td>92.0</td>\n",
       "      <td>United States</td>\n",
       "      <td>Omaha</td>\n",
       "      <td>Berkshire Hathaway</td>\n",
       "      <td>Finance &amp; Investments</td>\n",
       "      <td>United States</td>\n",
       "      <td>...</td>\n",
       "      <td>7.5</td>\n",
       "      <td>$21,427,700,000,000</td>\n",
       "      <td>88.2</td>\n",
       "      <td>101.8</td>\n",
       "      <td>78.5</td>\n",
       "      <td>9.6</td>\n",
       "      <td>36.6</td>\n",
       "      <td>3.282395e+08</td>\n",
       "      <td>37.090240</td>\n",
       "      <td>-95.712891</td>\n",
       "    </tr>\n",
       "    <tr>\n",
       "      <th>...</th>\n",
       "      <td>...</td>\n",
       "      <td>...</td>\n",
       "      <td>...</td>\n",
       "      <td>...</td>\n",
       "      <td>...</td>\n",
       "      <td>...</td>\n",
       "      <td>...</td>\n",
       "      <td>...</td>\n",
       "      <td>...</td>\n",
       "      <td>...</td>\n",
       "      <td>...</td>\n",
       "      <td>...</td>\n",
       "      <td>...</td>\n",
       "      <td>...</td>\n",
       "      <td>...</td>\n",
       "      <td>...</td>\n",
       "      <td>...</td>\n",
       "      <td>...</td>\n",
       "      <td>...</td>\n",
       "      <td>...</td>\n",
       "      <td>...</td>\n",
       "    </tr>\n",
       "    <tr>\n",
       "      <th>2635</th>\n",
       "      <td>2540</td>\n",
       "      <td>1000</td>\n",
       "      <td>Healthcare</td>\n",
       "      <td>Yu Rong</td>\n",
       "      <td>51.0</td>\n",
       "      <td>China</td>\n",
       "      <td>Shanghai</td>\n",
       "      <td>Health clinics</td>\n",
       "      <td>Healthcare</td>\n",
       "      <td>China</td>\n",
       "      <td>...</td>\n",
       "      <td>2.9</td>\n",
       "      <td>$19,910,000,000,000</td>\n",
       "      <td>50.6</td>\n",
       "      <td>100.2</td>\n",
       "      <td>77.0</td>\n",
       "      <td>9.4</td>\n",
       "      <td>59.2</td>\n",
       "      <td>1.397715e+09</td>\n",
       "      <td>35.861660</td>\n",
       "      <td>104.195397</td>\n",
       "    </tr>\n",
       "    <tr>\n",
       "      <th>2636</th>\n",
       "      <td>2540</td>\n",
       "      <td>1000</td>\n",
       "      <td>Food &amp; Beverage</td>\n",
       "      <td>Richard Yuengling, Jr.</td>\n",
       "      <td>80.0</td>\n",
       "      <td>United States</td>\n",
       "      <td>Pottsville</td>\n",
       "      <td>Beer</td>\n",
       "      <td>Food &amp; Beverage</td>\n",
       "      <td>United States</td>\n",
       "      <td>...</td>\n",
       "      <td>7.5</td>\n",
       "      <td>$21,427,700,000,000</td>\n",
       "      <td>88.2</td>\n",
       "      <td>101.8</td>\n",
       "      <td>78.5</td>\n",
       "      <td>9.6</td>\n",
       "      <td>36.6</td>\n",
       "      <td>3.282395e+08</td>\n",
       "      <td>37.090240</td>\n",
       "      <td>-95.712891</td>\n",
       "    </tr>\n",
       "    <tr>\n",
       "      <th>2637</th>\n",
       "      <td>2540</td>\n",
       "      <td>1000</td>\n",
       "      <td>Manufacturing</td>\n",
       "      <td>Zhang Gongyun</td>\n",
       "      <td>60.0</td>\n",
       "      <td>China</td>\n",
       "      <td>Gaomi</td>\n",
       "      <td>Tyre manufacturing machinery</td>\n",
       "      <td>Manufacturing</td>\n",
       "      <td>China</td>\n",
       "      <td>...</td>\n",
       "      <td>2.9</td>\n",
       "      <td>$19,910,000,000,000</td>\n",
       "      <td>50.6</td>\n",
       "      <td>100.2</td>\n",
       "      <td>77.0</td>\n",
       "      <td>9.4</td>\n",
       "      <td>59.2</td>\n",
       "      <td>1.397715e+09</td>\n",
       "      <td>35.861660</td>\n",
       "      <td>104.195397</td>\n",
       "    </tr>\n",
       "    <tr>\n",
       "      <th>2638</th>\n",
       "      <td>2540</td>\n",
       "      <td>1000</td>\n",
       "      <td>Real Estate</td>\n",
       "      <td>Zhang Guiping &amp; family</td>\n",
       "      <td>71.0</td>\n",
       "      <td>China</td>\n",
       "      <td>Nanjing</td>\n",
       "      <td>Real estate</td>\n",
       "      <td>Real Estate</td>\n",
       "      <td>China</td>\n",
       "      <td>...</td>\n",
       "      <td>2.9</td>\n",
       "      <td>$19,910,000,000,000</td>\n",
       "      <td>50.6</td>\n",
       "      <td>100.2</td>\n",
       "      <td>77.0</td>\n",
       "      <td>9.4</td>\n",
       "      <td>59.2</td>\n",
       "      <td>1.397715e+09</td>\n",
       "      <td>35.861660</td>\n",
       "      <td>104.195397</td>\n",
       "    </tr>\n",
       "    <tr>\n",
       "      <th>2639</th>\n",
       "      <td>2540</td>\n",
       "      <td>1000</td>\n",
       "      <td>Diversified</td>\n",
       "      <td>Inigo Zobel</td>\n",
       "      <td>66.0</td>\n",
       "      <td>Philippines</td>\n",
       "      <td>Makati</td>\n",
       "      <td>Diversified</td>\n",
       "      <td>Diversified</td>\n",
       "      <td>Philippines</td>\n",
       "      <td>...</td>\n",
       "      <td>2.5</td>\n",
       "      <td>$376,795,508,680</td>\n",
       "      <td>35.5</td>\n",
       "      <td>107.5</td>\n",
       "      <td>71.1</td>\n",
       "      <td>14.0</td>\n",
       "      <td>43.1</td>\n",
       "      <td>1.081166e+08</td>\n",
       "      <td>12.879721</td>\n",
       "      <td>121.774017</td>\n",
       "    </tr>\n",
       "  </tbody>\n",
       "</table>\n",
       "<p>2640 rows × 35 columns</p>\n",
       "</div>"
      ],
      "text/plain": [
       "      rank  finalWorth               category                personName   age  \\\n",
       "0        1      211000       Fashion & Retail  Bernard Arnault & family  74.0   \n",
       "1        2      180000             Automotive                 Elon Musk  51.0   \n",
       "2        3      114000             Technology                Jeff Bezos  59.0   \n",
       "3        4      107000             Technology             Larry Ellison  78.0   \n",
       "4        5      106000  Finance & Investments            Warren Buffett  92.0   \n",
       "...    ...         ...                    ...                       ...   ...   \n",
       "2635  2540        1000             Healthcare                   Yu Rong  51.0   \n",
       "2636  2540        1000        Food & Beverage    Richard Yuengling, Jr.  80.0   \n",
       "2637  2540        1000          Manufacturing             Zhang Gongyun  60.0   \n",
       "2638  2540        1000            Real Estate    Zhang Guiping & family  71.0   \n",
       "2639  2540        1000            Diversified               Inigo Zobel  66.0   \n",
       "\n",
       "            country        city                        source  \\\n",
       "0            France       Paris                          LVMH   \n",
       "1     United States      Austin                 Tesla, SpaceX   \n",
       "2     United States      Medina                        Amazon   \n",
       "3     United States       Lanai                        Oracle   \n",
       "4     United States       Omaha            Berkshire Hathaway   \n",
       "...             ...         ...                           ...   \n",
       "2635          China    Shanghai                Health clinics   \n",
       "2636  United States  Pottsville                          Beer   \n",
       "2637          China       Gaomi  Tyre manufacturing machinery   \n",
       "2638          China     Nanjing                   Real estate   \n",
       "2639    Philippines      Makati                   Diversified   \n",
       "\n",
       "                 industries countryOfCitizenship  ... cpi_change_country  \\\n",
       "0          Fashion & Retail               France  ...                1.1   \n",
       "1                Automotive        United States  ...                7.5   \n",
       "2                Technology        United States  ...                7.5   \n",
       "3                Technology        United States  ...                7.5   \n",
       "4     Finance & Investments        United States  ...                7.5   \n",
       "...                     ...                  ...  ...                ...   \n",
       "2635             Healthcare                China  ...                2.9   \n",
       "2636        Food & Beverage        United States  ...                7.5   \n",
       "2637          Manufacturing                China  ...                2.9   \n",
       "2638            Real Estate                China  ...                2.9   \n",
       "2639            Diversified          Philippines  ...                2.5   \n",
       "\n",
       "               gdp_country gross_tertiary_education_enrollment  \\\n",
       "0      $2,715,518,274,227                                 65.6   \n",
       "1     $21,427,700,000,000                                 88.2   \n",
       "2     $21,427,700,000,000                                 88.2   \n",
       "3     $21,427,700,000,000                                 88.2   \n",
       "4     $21,427,700,000,000                                 88.2   \n",
       "...                    ...                                 ...   \n",
       "2635  $19,910,000,000,000                                 50.6   \n",
       "2636  $21,427,700,000,000                                 88.2   \n",
       "2637  $19,910,000,000,000                                 50.6   \n",
       "2638  $19,910,000,000,000                                 50.6   \n",
       "2639     $376,795,508,680                                 35.5   \n",
       "\n",
       "     gross_primary_education_enrollment_country life_expectancy_country  \\\n",
       "0                                         102.5                    82.5   \n",
       "1                                         101.8                    78.5   \n",
       "2                                         101.8                    78.5   \n",
       "3                                         101.8                    78.5   \n",
       "4                                         101.8                    78.5   \n",
       "...                                         ...                     ...   \n",
       "2635                                      100.2                    77.0   \n",
       "2636                                      101.8                    78.5   \n",
       "2637                                      100.2                    77.0   \n",
       "2638                                      100.2                    77.0   \n",
       "2639                                      107.5                    71.1   \n",
       "\n",
       "     tax_revenue_country_country total_tax_rate_country population_country  \\\n",
       "0                           24.2                   60.7       6.705989e+07   \n",
       "1                            9.6                   36.6       3.282395e+08   \n",
       "2                            9.6                   36.6       3.282395e+08   \n",
       "3                            9.6                   36.6       3.282395e+08   \n",
       "4                            9.6                   36.6       3.282395e+08   \n",
       "...                          ...                    ...                ...   \n",
       "2635                         9.4                   59.2       1.397715e+09   \n",
       "2636                         9.6                   36.6       3.282395e+08   \n",
       "2637                         9.4                   59.2       1.397715e+09   \n",
       "2638                         9.4                   59.2       1.397715e+09   \n",
       "2639                        14.0                   43.1       1.081166e+08   \n",
       "\n",
       "     latitude_country longitude_country  \n",
       "0           46.227638          2.213749  \n",
       "1           37.090240        -95.712891  \n",
       "2           37.090240        -95.712891  \n",
       "3           37.090240        -95.712891  \n",
       "4           37.090240        -95.712891  \n",
       "...               ...               ...  \n",
       "2635        35.861660        104.195397  \n",
       "2636        37.090240        -95.712891  \n",
       "2637        35.861660        104.195397  \n",
       "2638        35.861660        104.195397  \n",
       "2639        12.879721        121.774017  \n",
       "\n",
       "[2640 rows x 35 columns]"
      ]
     },
     "execution_count": 8,
     "metadata": {},
     "output_type": "execute_result"
    }
   ],
   "source": [
    "d1=pd.read_csv(\"/workspaces/Kaggle/datasets/Billionaires Statistics Dataset.csv\")\n",
    "d1"
   ]
  },
  {
   "cell_type": "code",
   "execution_count": 9,
   "id": "6dbbe4db",
   "metadata": {
    "execution": {
     "iopub.execute_input": "2023-11-20T16:02:18.839456Z",
     "iopub.status.busy": "2023-11-20T16:02:18.839065Z",
     "iopub.status.idle": "2023-11-20T16:02:18.844993Z",
     "shell.execute_reply": "2023-11-20T16:02:18.843452Z"
    },
    "papermill": {
     "duration": 0.020511,
     "end_time": "2023-11-20T16:02:18.847494",
     "exception": false,
     "start_time": "2023-11-20T16:02:18.826983",
     "status": "completed"
    },
    "tags": []
   },
   "outputs": [],
   "source": [
    "data=d1.copy()"
   ]
  },
  {
   "cell_type": "markdown",
   "id": "5f9428d4",
   "metadata": {
    "papermill": {
     "duration": 0.010353,
     "end_time": "2023-11-20T16:02:18.869208",
     "exception": false,
     "start_time": "2023-11-20T16:02:18.858855",
     "status": "completed"
    },
    "tags": []
   },
   "source": [
    "# Data Exploration"
   ]
  },
  {
   "cell_type": "code",
   "execution_count": 10,
   "id": "57aefe85",
   "metadata": {
    "execution": {
     "iopub.execute_input": "2023-11-20T16:02:18.892370Z",
     "iopub.status.busy": "2023-11-20T16:02:18.891972Z",
     "iopub.status.idle": "2023-11-20T16:02:18.898688Z",
     "shell.execute_reply": "2023-11-20T16:02:18.897468Z"
    },
    "papermill": {
     "duration": 0.021404,
     "end_time": "2023-11-20T16:02:18.901274",
     "exception": false,
     "start_time": "2023-11-20T16:02:18.879870",
     "status": "completed"
    },
    "tags": []
   },
   "outputs": [
    {
     "name": "stdout",
     "output_type": "stream",
     "text": [
      "The shape of the DataFrame is:(2640, 35)\n",
      "The size of the DataFrame is:92400\n"
     ]
    }
   ],
   "source": [
    "print(f\"The shape of the DataFrame is:{d1.shape}\")\n",
    "print(f\"The size of the DataFrame is:{d1.size}\")"
   ]
  },
  {
   "cell_type": "code",
   "execution_count": 11,
   "id": "fef5fa65",
   "metadata": {
    "execution": {
     "iopub.execute_input": "2023-11-20T16:02:18.925561Z",
     "iopub.status.busy": "2023-11-20T16:02:18.924180Z",
     "iopub.status.idle": "2023-11-20T16:02:18.932582Z",
     "shell.execute_reply": "2023-11-20T16:02:18.931156Z"
    },
    "papermill": {
     "duration": 0.022901,
     "end_time": "2023-11-20T16:02:18.935011",
     "exception": false,
     "start_time": "2023-11-20T16:02:18.912110",
     "status": "completed"
    },
    "tags": []
   },
   "outputs": [
    {
     "data": {
      "text/plain": [
       "Index(['rank', 'finalWorth', 'category', 'personName', 'age', 'country',\n",
       "       'city', 'source', 'industries', 'countryOfCitizenship', 'organization',\n",
       "       'selfMade', 'status', 'gender', 'birthDate', 'lastName', 'firstName',\n",
       "       'title', 'date', 'state', 'residenceStateRegion', 'birthYear',\n",
       "       'birthMonth', 'birthDay', 'cpi_country', 'cpi_change_country',\n",
       "       'gdp_country', 'gross_tertiary_education_enrollment',\n",
       "       'gross_primary_education_enrollment_country', 'life_expectancy_country',\n",
       "       'tax_revenue_country_country', 'total_tax_rate_country',\n",
       "       'population_country', 'latitude_country', 'longitude_country'],\n",
       "      dtype='object')"
      ]
     },
     "execution_count": 11,
     "metadata": {},
     "output_type": "execute_result"
    }
   ],
   "source": [
    "d1.columns"
   ]
  },
  {
   "cell_type": "markdown",
   "id": "8f5ae6fe",
   "metadata": {
    "papermill": {
     "duration": 0.01122,
     "end_time": "2023-11-20T16:02:18.957409",
     "exception": false,
     "start_time": "2023-11-20T16:02:18.946189",
     "status": "completed"
    },
    "tags": []
   },
   "source": [
    "* Numerical-rank,finalworth,age,\n",
    "* Categorial-category,country,city,industries,organization,selfmade,status,gender\n",
    "* Mixed- personName,source,birthdate"
   ]
  },
  {
   "cell_type": "code",
   "execution_count": 12,
   "id": "34c48817",
   "metadata": {
    "execution": {
     "iopub.execute_input": "2023-11-20T16:02:18.982331Z",
     "iopub.status.busy": "2023-11-20T16:02:18.980942Z",
     "iopub.status.idle": "2023-11-20T16:02:19.033985Z",
     "shell.execute_reply": "2023-11-20T16:02:19.032344Z"
    },
    "papermill": {
     "duration": 0.068381,
     "end_time": "2023-11-20T16:02:19.036854",
     "exception": false,
     "start_time": "2023-11-20T16:02:18.968473",
     "status": "completed"
    },
    "tags": []
   },
   "outputs": [
    {
     "name": "stdout",
     "output_type": "stream",
     "text": [
      "<class 'pandas.core.frame.DataFrame'>\n",
      "RangeIndex: 2640 entries, 0 to 2639\n",
      "Data columns (total 35 columns):\n",
      " #   Column                                      Non-Null Count  Dtype  \n",
      "---  ------                                      --------------  -----  \n",
      " 0   rank                                        2640 non-null   int64  \n",
      " 1   finalWorth                                  2640 non-null   int64  \n",
      " 2   category                                    2640 non-null   object \n",
      " 3   personName                                  2640 non-null   object \n",
      " 4   age                                         2575 non-null   float64\n",
      " 5   country                                     2602 non-null   object \n",
      " 6   city                                        2568 non-null   object \n",
      " 7   source                                      2640 non-null   object \n",
      " 8   industries                                  2640 non-null   object \n",
      " 9   countryOfCitizenship                        2640 non-null   object \n",
      " 10  organization                                325 non-null    object \n",
      " 11  selfMade                                    2640 non-null   bool   \n",
      " 12  status                                      2640 non-null   object \n",
      " 13  gender                                      2640 non-null   object \n",
      " 14  birthDate                                   2564 non-null   object \n",
      " 15  lastName                                    2640 non-null   object \n",
      " 16  firstName                                   2637 non-null   object \n",
      " 17  title                                       339 non-null    object \n",
      " 18  date                                        2640 non-null   object \n",
      " 19  state                                       753 non-null    object \n",
      " 20  residenceStateRegion                        747 non-null    object \n",
      " 21  birthYear                                   2564 non-null   float64\n",
      " 22  birthMonth                                  2564 non-null   float64\n",
      " 23  birthDay                                    2564 non-null   float64\n",
      " 24  cpi_country                                 2456 non-null   float64\n",
      " 25  cpi_change_country                          2456 non-null   float64\n",
      " 26  gdp_country                                 2476 non-null   object \n",
      " 27  gross_tertiary_education_enrollment         2458 non-null   float64\n",
      " 28  gross_primary_education_enrollment_country  2459 non-null   float64\n",
      " 29  life_expectancy_country                     2458 non-null   float64\n",
      " 30  tax_revenue_country_country                 2457 non-null   float64\n",
      " 31  total_tax_rate_country                      2458 non-null   float64\n",
      " 32  population_country                          2476 non-null   float64\n",
      " 33  latitude_country                            2476 non-null   float64\n",
      " 34  longitude_country                           2476 non-null   float64\n",
      "dtypes: bool(1), float64(14), int64(2), object(18)\n",
      "memory usage: 704.0+ KB\n"
     ]
    }
   ],
   "source": [
    "d1.info()"
   ]
  },
  {
   "cell_type": "code",
   "execution_count": 13,
   "id": "780779c9",
   "metadata": {
    "execution": {
     "iopub.execute_input": "2023-11-20T16:02:19.061933Z",
     "iopub.status.busy": "2023-11-20T16:02:19.061045Z",
     "iopub.status.idle": "2023-11-20T16:02:19.075225Z",
     "shell.execute_reply": "2023-11-20T16:02:19.073964Z"
    },
    "papermill": {
     "duration": 0.02995,
     "end_time": "2023-11-20T16:02:19.078074",
     "exception": false,
     "start_time": "2023-11-20T16:02:19.048124",
     "status": "completed"
    },
    "tags": []
   },
   "outputs": [
    {
     "data": {
      "text/plain": [
       "rank                                             0\n",
       "finalWorth                                       0\n",
       "category                                         0\n",
       "personName                                       0\n",
       "age                                             65\n",
       "country                                         38\n",
       "city                                            72\n",
       "source                                           0\n",
       "industries                                       0\n",
       "countryOfCitizenship                             0\n",
       "organization                                  2315\n",
       "selfMade                                         0\n",
       "status                                           0\n",
       "gender                                           0\n",
       "birthDate                                       76\n",
       "lastName                                         0\n",
       "firstName                                        3\n",
       "title                                         2301\n",
       "date                                             0\n",
       "state                                         1887\n",
       "residenceStateRegion                          1893\n",
       "birthYear                                       76\n",
       "birthMonth                                      76\n",
       "birthDay                                        76\n",
       "cpi_country                                    184\n",
       "cpi_change_country                             184\n",
       "gdp_country                                    164\n",
       "gross_tertiary_education_enrollment            182\n",
       "gross_primary_education_enrollment_country     181\n",
       "life_expectancy_country                        182\n",
       "tax_revenue_country_country                    183\n",
       "total_tax_rate_country                         182\n",
       "population_country                             164\n",
       "latitude_country                               164\n",
       "longitude_country                              164\n",
       "dtype: int64"
      ]
     },
     "execution_count": 13,
     "metadata": {},
     "output_type": "execute_result"
    }
   ],
   "source": [
    "d1.isnull().sum()"
   ]
  },
  {
   "cell_type": "markdown",
   "id": "6e828d16",
   "metadata": {
    "papermill": {
     "duration": 0.011331,
     "end_time": "2023-11-20T16:02:19.100985",
     "exception": false,
     "start_time": "2023-11-20T16:02:19.089654",
     "status": "completed"
    },
    "tags": []
   },
   "source": [
    "  **Percentage of null values**"
   ]
  },
  {
   "cell_type": "code",
   "execution_count": 14,
   "id": "18ac204f",
   "metadata": {
    "execution": {
     "iopub.execute_input": "2023-11-20T16:02:19.125822Z",
     "iopub.status.busy": "2023-11-20T16:02:19.125417Z",
     "iopub.status.idle": "2023-11-20T16:02:19.156294Z",
     "shell.execute_reply": "2023-11-20T16:02:19.154259Z"
    },
    "papermill": {
     "duration": 0.046945,
     "end_time": "2023-11-20T16:02:19.159191",
     "exception": false,
     "start_time": "2023-11-20T16:02:19.112246",
     "status": "completed"
    },
    "tags": []
   },
   "outputs": [
    {
     "data": {
      "text/html": [
       "<div>\n",
       "<style scoped>\n",
       "    .dataframe tbody tr th:only-of-type {\n",
       "        vertical-align: middle;\n",
       "    }\n",
       "\n",
       "    .dataframe tbody tr th {\n",
       "        vertical-align: top;\n",
       "    }\n",
       "\n",
       "    .dataframe thead th {\n",
       "        text-align: right;\n",
       "    }\n",
       "</style>\n",
       "<table border=\"1\" class=\"dataframe\">\n",
       "  <thead>\n",
       "    <tr style=\"text-align: right;\">\n",
       "      <th></th>\n",
       "      <th>Missing Values</th>\n",
       "      <th>Percentage of missing values</th>\n",
       "    </tr>\n",
       "  </thead>\n",
       "  <tbody>\n",
       "    <tr>\n",
       "      <th>rank</th>\n",
       "      <td>0</td>\n",
       "      <td>0.0%</td>\n",
       "    </tr>\n",
       "    <tr>\n",
       "      <th>finalWorth</th>\n",
       "      <td>0</td>\n",
       "      <td>0.0%</td>\n",
       "    </tr>\n",
       "    <tr>\n",
       "      <th>category</th>\n",
       "      <td>0</td>\n",
       "      <td>0.0%</td>\n",
       "    </tr>\n",
       "    <tr>\n",
       "      <th>personName</th>\n",
       "      <td>0</td>\n",
       "      <td>0.0%</td>\n",
       "    </tr>\n",
       "    <tr>\n",
       "      <th>age</th>\n",
       "      <td>65</td>\n",
       "      <td>2.46%</td>\n",
       "    </tr>\n",
       "    <tr>\n",
       "      <th>country</th>\n",
       "      <td>38</td>\n",
       "      <td>1.44%</td>\n",
       "    </tr>\n",
       "    <tr>\n",
       "      <th>city</th>\n",
       "      <td>72</td>\n",
       "      <td>2.73%</td>\n",
       "    </tr>\n",
       "    <tr>\n",
       "      <th>source</th>\n",
       "      <td>0</td>\n",
       "      <td>0.0%</td>\n",
       "    </tr>\n",
       "    <tr>\n",
       "      <th>industries</th>\n",
       "      <td>0</td>\n",
       "      <td>0.0%</td>\n",
       "    </tr>\n",
       "    <tr>\n",
       "      <th>countryOfCitizenship</th>\n",
       "      <td>0</td>\n",
       "      <td>0.0%</td>\n",
       "    </tr>\n",
       "    <tr>\n",
       "      <th>organization</th>\n",
       "      <td>2315</td>\n",
       "      <td>87.69%</td>\n",
       "    </tr>\n",
       "    <tr>\n",
       "      <th>selfMade</th>\n",
       "      <td>0</td>\n",
       "      <td>0.0%</td>\n",
       "    </tr>\n",
       "    <tr>\n",
       "      <th>status</th>\n",
       "      <td>0</td>\n",
       "      <td>0.0%</td>\n",
       "    </tr>\n",
       "    <tr>\n",
       "      <th>gender</th>\n",
       "      <td>0</td>\n",
       "      <td>0.0%</td>\n",
       "    </tr>\n",
       "    <tr>\n",
       "      <th>birthDate</th>\n",
       "      <td>76</td>\n",
       "      <td>2.88%</td>\n",
       "    </tr>\n",
       "    <tr>\n",
       "      <th>lastName</th>\n",
       "      <td>0</td>\n",
       "      <td>0.0%</td>\n",
       "    </tr>\n",
       "    <tr>\n",
       "      <th>firstName</th>\n",
       "      <td>3</td>\n",
       "      <td>0.11%</td>\n",
       "    </tr>\n",
       "    <tr>\n",
       "      <th>title</th>\n",
       "      <td>2301</td>\n",
       "      <td>87.16%</td>\n",
       "    </tr>\n",
       "    <tr>\n",
       "      <th>date</th>\n",
       "      <td>0</td>\n",
       "      <td>0.0%</td>\n",
       "    </tr>\n",
       "    <tr>\n",
       "      <th>state</th>\n",
       "      <td>1887</td>\n",
       "      <td>71.48%</td>\n",
       "    </tr>\n",
       "    <tr>\n",
       "      <th>residenceStateRegion</th>\n",
       "      <td>1893</td>\n",
       "      <td>71.7%</td>\n",
       "    </tr>\n",
       "    <tr>\n",
       "      <th>birthYear</th>\n",
       "      <td>76</td>\n",
       "      <td>2.88%</td>\n",
       "    </tr>\n",
       "    <tr>\n",
       "      <th>birthMonth</th>\n",
       "      <td>76</td>\n",
       "      <td>2.88%</td>\n",
       "    </tr>\n",
       "    <tr>\n",
       "      <th>birthDay</th>\n",
       "      <td>76</td>\n",
       "      <td>2.88%</td>\n",
       "    </tr>\n",
       "    <tr>\n",
       "      <th>cpi_country</th>\n",
       "      <td>184</td>\n",
       "      <td>6.97%</td>\n",
       "    </tr>\n",
       "    <tr>\n",
       "      <th>cpi_change_country</th>\n",
       "      <td>184</td>\n",
       "      <td>6.97%</td>\n",
       "    </tr>\n",
       "    <tr>\n",
       "      <th>gdp_country</th>\n",
       "      <td>164</td>\n",
       "      <td>6.21%</td>\n",
       "    </tr>\n",
       "    <tr>\n",
       "      <th>gross_tertiary_education_enrollment</th>\n",
       "      <td>182</td>\n",
       "      <td>6.89%</td>\n",
       "    </tr>\n",
       "    <tr>\n",
       "      <th>gross_primary_education_enrollment_country</th>\n",
       "      <td>181</td>\n",
       "      <td>6.86%</td>\n",
       "    </tr>\n",
       "    <tr>\n",
       "      <th>life_expectancy_country</th>\n",
       "      <td>182</td>\n",
       "      <td>6.89%</td>\n",
       "    </tr>\n",
       "    <tr>\n",
       "      <th>tax_revenue_country_country</th>\n",
       "      <td>183</td>\n",
       "      <td>6.93%</td>\n",
       "    </tr>\n",
       "    <tr>\n",
       "      <th>total_tax_rate_country</th>\n",
       "      <td>182</td>\n",
       "      <td>6.89%</td>\n",
       "    </tr>\n",
       "    <tr>\n",
       "      <th>population_country</th>\n",
       "      <td>164</td>\n",
       "      <td>6.21%</td>\n",
       "    </tr>\n",
       "    <tr>\n",
       "      <th>latitude_country</th>\n",
       "      <td>164</td>\n",
       "      <td>6.21%</td>\n",
       "    </tr>\n",
       "    <tr>\n",
       "      <th>longitude_country</th>\n",
       "      <td>164</td>\n",
       "      <td>6.21%</td>\n",
       "    </tr>\n",
       "  </tbody>\n",
       "</table>\n",
       "</div>"
      ],
      "text/plain": [
       "                                            Missing Values  \\\n",
       "rank                                                     0   \n",
       "finalWorth                                               0   \n",
       "category                                                 0   \n",
       "personName                                               0   \n",
       "age                                                     65   \n",
       "country                                                 38   \n",
       "city                                                    72   \n",
       "source                                                   0   \n",
       "industries                                               0   \n",
       "countryOfCitizenship                                     0   \n",
       "organization                                          2315   \n",
       "selfMade                                                 0   \n",
       "status                                                   0   \n",
       "gender                                                   0   \n",
       "birthDate                                               76   \n",
       "lastName                                                 0   \n",
       "firstName                                                3   \n",
       "title                                                 2301   \n",
       "date                                                     0   \n",
       "state                                                 1887   \n",
       "residenceStateRegion                                  1893   \n",
       "birthYear                                               76   \n",
       "birthMonth                                              76   \n",
       "birthDay                                                76   \n",
       "cpi_country                                            184   \n",
       "cpi_change_country                                     184   \n",
       "gdp_country                                            164   \n",
       "gross_tertiary_education_enrollment                    182   \n",
       "gross_primary_education_enrollment_country             181   \n",
       "life_expectancy_country                                182   \n",
       "tax_revenue_country_country                            183   \n",
       "total_tax_rate_country                                 182   \n",
       "population_country                                     164   \n",
       "latitude_country                                       164   \n",
       "longitude_country                                      164   \n",
       "\n",
       "                                           Percentage of missing values  \n",
       "rank                                                               0.0%  \n",
       "finalWorth                                                         0.0%  \n",
       "category                                                           0.0%  \n",
       "personName                                                         0.0%  \n",
       "age                                                               2.46%  \n",
       "country                                                           1.44%  \n",
       "city                                                              2.73%  \n",
       "source                                                             0.0%  \n",
       "industries                                                         0.0%  \n",
       "countryOfCitizenship                                               0.0%  \n",
       "organization                                                     87.69%  \n",
       "selfMade                                                           0.0%  \n",
       "status                                                             0.0%  \n",
       "gender                                                             0.0%  \n",
       "birthDate                                                         2.88%  \n",
       "lastName                                                           0.0%  \n",
       "firstName                                                         0.11%  \n",
       "title                                                            87.16%  \n",
       "date                                                               0.0%  \n",
       "state                                                            71.48%  \n",
       "residenceStateRegion                                              71.7%  \n",
       "birthYear                                                         2.88%  \n",
       "birthMonth                                                        2.88%  \n",
       "birthDay                                                          2.88%  \n",
       "cpi_country                                                       6.97%  \n",
       "cpi_change_country                                                6.97%  \n",
       "gdp_country                                                       6.21%  \n",
       "gross_tertiary_education_enrollment                               6.89%  \n",
       "gross_primary_education_enrollment_country                        6.86%  \n",
       "life_expectancy_country                                           6.89%  \n",
       "tax_revenue_country_country                                       6.93%  \n",
       "total_tax_rate_country                                            6.89%  \n",
       "population_country                                                6.21%  \n",
       "latitude_country                                                  6.21%  \n",
       "longitude_country                                                 6.21%  "
      ]
     },
     "execution_count": 14,
     "metadata": {},
     "output_type": "execute_result"
    }
   ],
   "source": [
    "missing_df=d1.isnull().sum().to_frame().rename(columns={0:\"Missing Values\"})\n",
    "missing_df[\"Percentage of missing values\"]=(round((d1.isnull().sum()*100)/(len(d1)),2).astype(str)+\"%\")\n",
    "missing_df\n"
   ]
  },
  {
   "cell_type": "code",
   "execution_count": 15,
   "id": "61fa904a",
   "metadata": {
    "execution": {
     "iopub.execute_input": "2023-11-20T16:02:19.185727Z",
     "iopub.status.busy": "2023-11-20T16:02:19.185306Z",
     "iopub.status.idle": "2023-11-20T16:02:19.193845Z",
     "shell.execute_reply": "2023-11-20T16:02:19.192583Z"
    },
    "papermill": {
     "duration": 0.025324,
     "end_time": "2023-11-20T16:02:19.196577",
     "exception": false,
     "start_time": "2023-11-20T16:02:19.171253",
     "status": "completed"
    },
    "tags": []
   },
   "outputs": [
    {
     "data": {
      "text/plain": [
       "78"
      ]
     },
     "execution_count": 15,
     "metadata": {},
     "output_type": "execute_result"
    }
   ],
   "source": [
    "d1[\"country\"].unique()\n",
    "d1[\"country\"].nunique()"
   ]
  },
  {
   "cell_type": "code",
   "execution_count": 16,
   "id": "a1cbc30d",
   "metadata": {
    "execution": {
     "iopub.execute_input": "2023-11-20T16:02:19.223060Z",
     "iopub.status.busy": "2023-11-20T16:02:19.222663Z",
     "iopub.status.idle": "2023-11-20T16:02:19.290172Z",
     "shell.execute_reply": "2023-11-20T16:02:19.289023Z"
    },
    "papermill": {
     "duration": 0.083735,
     "end_time": "2023-11-20T16:02:19.292697",
     "exception": false,
     "start_time": "2023-11-20T16:02:19.208962",
     "status": "completed"
    },
    "tags": []
   },
   "outputs": [
    {
     "data": {
      "text/html": [
       "<div>\n",
       "<style scoped>\n",
       "    .dataframe tbody tr th:only-of-type {\n",
       "        vertical-align: middle;\n",
       "    }\n",
       "\n",
       "    .dataframe tbody tr th {\n",
       "        vertical-align: top;\n",
       "    }\n",
       "\n",
       "    .dataframe thead th {\n",
       "        text-align: right;\n",
       "    }\n",
       "</style>\n",
       "<table border=\"1\" class=\"dataframe\">\n",
       "  <thead>\n",
       "    <tr style=\"text-align: right;\">\n",
       "      <th></th>\n",
       "      <th>count</th>\n",
       "      <th>mean</th>\n",
       "      <th>std</th>\n",
       "      <th>min</th>\n",
       "      <th>25%</th>\n",
       "      <th>50%</th>\n",
       "      <th>75%</th>\n",
       "      <th>max</th>\n",
       "    </tr>\n",
       "  </thead>\n",
       "  <tbody>\n",
       "    <tr>\n",
       "      <th>rank</th>\n",
       "      <td>2640.0</td>\n",
       "      <td>1.289159e+03</td>\n",
       "      <td>7.396937e+02</td>\n",
       "      <td>1.000000</td>\n",
       "      <td>6.590000e+02</td>\n",
       "      <td>1.312000e+03</td>\n",
       "      <td>1.905000e+03</td>\n",
       "      <td>2.540000e+03</td>\n",
       "    </tr>\n",
       "    <tr>\n",
       "      <th>finalWorth</th>\n",
       "      <td>2640.0</td>\n",
       "      <td>4.623788e+03</td>\n",
       "      <td>9.834241e+03</td>\n",
       "      <td>1000.000000</td>\n",
       "      <td>1.500000e+03</td>\n",
       "      <td>2.300000e+03</td>\n",
       "      <td>4.200000e+03</td>\n",
       "      <td>2.110000e+05</td>\n",
       "    </tr>\n",
       "    <tr>\n",
       "      <th>age</th>\n",
       "      <td>2575.0</td>\n",
       "      <td>6.514019e+01</td>\n",
       "      <td>1.325810e+01</td>\n",
       "      <td>18.000000</td>\n",
       "      <td>5.600000e+01</td>\n",
       "      <td>6.500000e+01</td>\n",
       "      <td>7.500000e+01</td>\n",
       "      <td>1.010000e+02</td>\n",
       "    </tr>\n",
       "    <tr>\n",
       "      <th>birthYear</th>\n",
       "      <td>2564.0</td>\n",
       "      <td>1.957183e+03</td>\n",
       "      <td>1.328252e+01</td>\n",
       "      <td>1921.000000</td>\n",
       "      <td>1.948000e+03</td>\n",
       "      <td>1.957000e+03</td>\n",
       "      <td>1.966000e+03</td>\n",
       "      <td>2.004000e+03</td>\n",
       "    </tr>\n",
       "    <tr>\n",
       "      <th>birthMonth</th>\n",
       "      <td>2564.0</td>\n",
       "      <td>5.740250e+00</td>\n",
       "      <td>3.710085e+00</td>\n",
       "      <td>1.000000</td>\n",
       "      <td>2.000000e+00</td>\n",
       "      <td>6.000000e+00</td>\n",
       "      <td>9.000000e+00</td>\n",
       "      <td>1.200000e+01</td>\n",
       "    </tr>\n",
       "    <tr>\n",
       "      <th>birthDay</th>\n",
       "      <td>2564.0</td>\n",
       "      <td>1.209984e+01</td>\n",
       "      <td>9.918876e+00</td>\n",
       "      <td>1.000000</td>\n",
       "      <td>1.000000e+00</td>\n",
       "      <td>1.100000e+01</td>\n",
       "      <td>2.100000e+01</td>\n",
       "      <td>3.100000e+01</td>\n",
       "    </tr>\n",
       "    <tr>\n",
       "      <th>cpi_country</th>\n",
       "      <td>2456.0</td>\n",
       "      <td>1.277552e+02</td>\n",
       "      <td>2.645295e+01</td>\n",
       "      <td>99.550000</td>\n",
       "      <td>1.172400e+02</td>\n",
       "      <td>1.172400e+02</td>\n",
       "      <td>1.250800e+02</td>\n",
       "      <td>2.885700e+02</td>\n",
       "    </tr>\n",
       "    <tr>\n",
       "      <th>cpi_change_country</th>\n",
       "      <td>2456.0</td>\n",
       "      <td>4.364169e+00</td>\n",
       "      <td>3.623763e+00</td>\n",
       "      <td>-1.900000</td>\n",
       "      <td>1.700000e+00</td>\n",
       "      <td>2.900000e+00</td>\n",
       "      <td>7.500000e+00</td>\n",
       "      <td>5.350000e+01</td>\n",
       "    </tr>\n",
       "    <tr>\n",
       "      <th>gross_tertiary_education_enrollment</th>\n",
       "      <td>2458.0</td>\n",
       "      <td>6.722567e+01</td>\n",
       "      <td>2.134343e+01</td>\n",
       "      <td>4.000000</td>\n",
       "      <td>5.060000e+01</td>\n",
       "      <td>6.560000e+01</td>\n",
       "      <td>8.820000e+01</td>\n",
       "      <td>1.366000e+02</td>\n",
       "    </tr>\n",
       "    <tr>\n",
       "      <th>gross_primary_education_enrollment_country</th>\n",
       "      <td>2459.0</td>\n",
       "      <td>1.028585e+02</td>\n",
       "      <td>4.710977e+00</td>\n",
       "      <td>84.700000</td>\n",
       "      <td>1.002000e+02</td>\n",
       "      <td>1.018000e+02</td>\n",
       "      <td>1.026000e+02</td>\n",
       "      <td>1.421000e+02</td>\n",
       "    </tr>\n",
       "    <tr>\n",
       "      <th>life_expectancy_country</th>\n",
       "      <td>2458.0</td>\n",
       "      <td>7.812282e+01</td>\n",
       "      <td>3.730099e+00</td>\n",
       "      <td>54.300000</td>\n",
       "      <td>7.700000e+01</td>\n",
       "      <td>7.850000e+01</td>\n",
       "      <td>8.090000e+01</td>\n",
       "      <td>8.420000e+01</td>\n",
       "    </tr>\n",
       "    <tr>\n",
       "      <th>tax_revenue_country_country</th>\n",
       "      <td>2457.0</td>\n",
       "      <td>1.254624e+01</td>\n",
       "      <td>5.368625e+00</td>\n",
       "      <td>0.100000</td>\n",
       "      <td>9.600000e+00</td>\n",
       "      <td>9.600000e+00</td>\n",
       "      <td>1.280000e+01</td>\n",
       "      <td>3.720000e+01</td>\n",
       "    </tr>\n",
       "    <tr>\n",
       "      <th>total_tax_rate_country</th>\n",
       "      <td>2458.0</td>\n",
       "      <td>4.396334e+01</td>\n",
       "      <td>1.214530e+01</td>\n",
       "      <td>9.900000</td>\n",
       "      <td>3.660000e+01</td>\n",
       "      <td>4.120000e+01</td>\n",
       "      <td>5.910000e+01</td>\n",
       "      <td>1.063000e+02</td>\n",
       "    </tr>\n",
       "    <tr>\n",
       "      <th>population_country</th>\n",
       "      <td>2476.0</td>\n",
       "      <td>5.102053e+08</td>\n",
       "      <td>5.542447e+08</td>\n",
       "      <td>38019.000000</td>\n",
       "      <td>6.683440e+07</td>\n",
       "      <td>3.282395e+08</td>\n",
       "      <td>1.366418e+09</td>\n",
       "      <td>1.397715e+09</td>\n",
       "    </tr>\n",
       "    <tr>\n",
       "      <th>latitude_country</th>\n",
       "      <td>2476.0</td>\n",
       "      <td>3.490359e+01</td>\n",
       "      <td>1.700350e+01</td>\n",
       "      <td>-40.900557</td>\n",
       "      <td>3.586166e+01</td>\n",
       "      <td>3.709024e+01</td>\n",
       "      <td>4.046367e+01</td>\n",
       "      <td>6.192411e+01</td>\n",
       "    </tr>\n",
       "    <tr>\n",
       "      <th>longitude_country</th>\n",
       "      <td>2476.0</td>\n",
       "      <td>1.258316e+01</td>\n",
       "      <td>8.676299e+01</td>\n",
       "      <td>-106.346771</td>\n",
       "      <td>-9.571289e+01</td>\n",
       "      <td>1.045153e+01</td>\n",
       "      <td>1.041954e+02</td>\n",
       "      <td>1.748860e+02</td>\n",
       "    </tr>\n",
       "  </tbody>\n",
       "</table>\n",
       "</div>"
      ],
      "text/plain": [
       "                                             count          mean  \\\n",
       "rank                                        2640.0  1.289159e+03   \n",
       "finalWorth                                  2640.0  4.623788e+03   \n",
       "age                                         2575.0  6.514019e+01   \n",
       "birthYear                                   2564.0  1.957183e+03   \n",
       "birthMonth                                  2564.0  5.740250e+00   \n",
       "birthDay                                    2564.0  1.209984e+01   \n",
       "cpi_country                                 2456.0  1.277552e+02   \n",
       "cpi_change_country                          2456.0  4.364169e+00   \n",
       "gross_tertiary_education_enrollment         2458.0  6.722567e+01   \n",
       "gross_primary_education_enrollment_country  2459.0  1.028585e+02   \n",
       "life_expectancy_country                     2458.0  7.812282e+01   \n",
       "tax_revenue_country_country                 2457.0  1.254624e+01   \n",
       "total_tax_rate_country                      2458.0  4.396334e+01   \n",
       "population_country                          2476.0  5.102053e+08   \n",
       "latitude_country                            2476.0  3.490359e+01   \n",
       "longitude_country                           2476.0  1.258316e+01   \n",
       "\n",
       "                                                     std           min  \\\n",
       "rank                                        7.396937e+02      1.000000   \n",
       "finalWorth                                  9.834241e+03   1000.000000   \n",
       "age                                         1.325810e+01     18.000000   \n",
       "birthYear                                   1.328252e+01   1921.000000   \n",
       "birthMonth                                  3.710085e+00      1.000000   \n",
       "birthDay                                    9.918876e+00      1.000000   \n",
       "cpi_country                                 2.645295e+01     99.550000   \n",
       "cpi_change_country                          3.623763e+00     -1.900000   \n",
       "gross_tertiary_education_enrollment         2.134343e+01      4.000000   \n",
       "gross_primary_education_enrollment_country  4.710977e+00     84.700000   \n",
       "life_expectancy_country                     3.730099e+00     54.300000   \n",
       "tax_revenue_country_country                 5.368625e+00      0.100000   \n",
       "total_tax_rate_country                      1.214530e+01      9.900000   \n",
       "population_country                          5.542447e+08  38019.000000   \n",
       "latitude_country                            1.700350e+01    -40.900557   \n",
       "longitude_country                           8.676299e+01   -106.346771   \n",
       "\n",
       "                                                     25%           50%  \\\n",
       "rank                                        6.590000e+02  1.312000e+03   \n",
       "finalWorth                                  1.500000e+03  2.300000e+03   \n",
       "age                                         5.600000e+01  6.500000e+01   \n",
       "birthYear                                   1.948000e+03  1.957000e+03   \n",
       "birthMonth                                  2.000000e+00  6.000000e+00   \n",
       "birthDay                                    1.000000e+00  1.100000e+01   \n",
       "cpi_country                                 1.172400e+02  1.172400e+02   \n",
       "cpi_change_country                          1.700000e+00  2.900000e+00   \n",
       "gross_tertiary_education_enrollment         5.060000e+01  6.560000e+01   \n",
       "gross_primary_education_enrollment_country  1.002000e+02  1.018000e+02   \n",
       "life_expectancy_country                     7.700000e+01  7.850000e+01   \n",
       "tax_revenue_country_country                 9.600000e+00  9.600000e+00   \n",
       "total_tax_rate_country                      3.660000e+01  4.120000e+01   \n",
       "population_country                          6.683440e+07  3.282395e+08   \n",
       "latitude_country                            3.586166e+01  3.709024e+01   \n",
       "longitude_country                          -9.571289e+01  1.045153e+01   \n",
       "\n",
       "                                                     75%           max  \n",
       "rank                                        1.905000e+03  2.540000e+03  \n",
       "finalWorth                                  4.200000e+03  2.110000e+05  \n",
       "age                                         7.500000e+01  1.010000e+02  \n",
       "birthYear                                   1.966000e+03  2.004000e+03  \n",
       "birthMonth                                  9.000000e+00  1.200000e+01  \n",
       "birthDay                                    2.100000e+01  3.100000e+01  \n",
       "cpi_country                                 1.250800e+02  2.885700e+02  \n",
       "cpi_change_country                          7.500000e+00  5.350000e+01  \n",
       "gross_tertiary_education_enrollment         8.820000e+01  1.366000e+02  \n",
       "gross_primary_education_enrollment_country  1.026000e+02  1.421000e+02  \n",
       "life_expectancy_country                     8.090000e+01  8.420000e+01  \n",
       "tax_revenue_country_country                 1.280000e+01  3.720000e+01  \n",
       "total_tax_rate_country                      5.910000e+01  1.063000e+02  \n",
       "population_country                          1.366418e+09  1.397715e+09  \n",
       "latitude_country                            4.046367e+01  6.192411e+01  \n",
       "longitude_country                           1.041954e+02  1.748860e+02  "
      ]
     },
     "execution_count": 16,
     "metadata": {},
     "output_type": "execute_result"
    }
   ],
   "source": [
    "d1.describe().transpose()"
   ]
  },
  {
   "cell_type": "code",
   "execution_count": 17,
   "id": "81458d6f",
   "metadata": {
    "execution": {
     "iopub.execute_input": "2023-11-20T16:02:19.320576Z",
     "iopub.status.busy": "2023-11-20T16:02:19.319901Z",
     "iopub.status.idle": "2023-11-20T16:02:19.329500Z",
     "shell.execute_reply": "2023-11-20T16:02:19.328378Z"
    },
    "papermill": {
     "duration": 0.026425,
     "end_time": "2023-11-20T16:02:19.332079",
     "exception": false,
     "start_time": "2023-11-20T16:02:19.305654",
     "status": "completed"
    },
    "tags": []
   },
   "outputs": [
    {
     "data": {
      "text/plain": [
       "2561"
      ]
     },
     "execution_count": 17,
     "metadata": {},
     "output_type": "execute_result"
    }
   ],
   "source": [
    "d1[\"country\"].duplicated().sum()"
   ]
  },
  {
   "cell_type": "markdown",
   "id": "08017e5f",
   "metadata": {
    "papermill": {
     "duration": 0.012355,
     "end_time": "2023-11-20T16:02:19.357344",
     "exception": false,
     "start_time": "2023-11-20T16:02:19.344989",
     "status": "completed"
    },
    "tags": []
   },
   "source": [
    "# Data Accessing"
   ]
  },
  {
   "cell_type": "markdown",
   "id": "f0c27767",
   "metadata": {
    "papermill": {
     "duration": 0.012468,
     "end_time": "2023-11-20T16:02:19.382668",
     "exception": false,
     "start_time": "2023-11-20T16:02:19.370200",
     "status": "completed"
    },
    "tags": []
   },
   "source": [
    "* Numerical-rank,finalworth,age,\n",
    "* Categorial-category,country,city,industries,organization,selfmade,status,gender\n",
    "* Mixed- personName,source,birthdate"
   ]
  },
  {
   "cell_type": "markdown",
   "id": "b336fe25",
   "metadata": {
    "papermill": {
     "duration": 0.012587,
     "end_time": "2023-11-20T16:02:19.408655",
     "exception": false,
     "start_time": "2023-11-20T16:02:19.396068",
     "status": "completed"
    },
    "tags": []
   },
   "source": [
    "# Defining the Problems\n"
   ]
  },
  {
   "cell_type": "markdown",
   "id": "e4f9743a",
   "metadata": {
    "papermill": {
     "duration": 0.012255,
     "end_time": "2023-11-20T16:02:19.433639",
     "exception": false,
     "start_time": "2023-11-20T16:02:19.421384",
     "status": "completed"
    },
    "tags": []
   },
   "source": [
    "1. **Wealth Distribution:**\n",
    "   - What is the distribution of wealth among different categories?\n",
    "   - Are there certain industries that dominate the top ranks in terms of wealth?\n",
    "\n",
    "2. **Geographical Analysis:**\n",
    "   - Which countries have the highest representation among the wealthiest individuals?\n",
    "   - Is there a correlation between the country of citizenship and the individual's current residence?\n",
    "\n",
    "3. **Age and Wealth:**\n",
    "   - How does the age of billionaires correlate with their wealth?\n",
    "   - Are there notable differences in the wealth distribution among different age groups?\n",
    "\n",
    "4. **Industry Insights:**\n",
    "   - Which industries have the highest concentration of billionaires?\n",
    "   - Are there specific industries that consistently appear among the top ranks?\n",
    "\n",
    "5. **Source of Wealth:**\n",
    "   - What are the primary sources of wealth for the billionaires in the dataset?\n",
    "   - Is there a relationship between the source of wealth and the total worth of an individual?\n",
    "\n",
    "6. **Country-specific Analysis:**\n",
    "   - Can we identify any economic indicators (e.g., GDP, tax rates) that correlate with the number or wealth of billionaires in a country?\n",
    "   - How does life expectancy in a country correlate with the wealth of its billionaires?\n",
    "\n",
    "7. **Population and Wealth:**\n",
    "   - Is there a correlation between the population of a country and the number of billionaires it has?\n",
    "   - How does the wealth of individuals compare across countries with different population sizes?\n",
    "\n",
    "8. **Spatial Analysis:**\n",
    "   - Can we visualize the geographical distribution of billionaires on a world map?\n",
    "   - Are there clusters or patterns in the distribution of billionaires based on latitude and longitude?\n",
    "\n",
    "9. **Gender Representation:**\n",
    "   - What is the gender distribution among the billionaires in the dataset?\n",
    "   - Are there notable differences in wealth between male and female billionaires?\n",
    "\n",
    "10. **Educational Insights:**\n",
    "    - Is there a correlation between the level of education (e.g., tertiary education enrollment) in a country and the wealth of its billionaires?"
   ]
  },
  {
   "cell_type": "code",
   "execution_count": 18,
   "id": "ac727249",
   "metadata": {
    "execution": {
     "iopub.execute_input": "2023-11-20T16:02:19.460933Z",
     "iopub.status.busy": "2023-11-20T16:02:19.460521Z",
     "iopub.status.idle": "2023-11-20T16:02:19.468113Z",
     "shell.execute_reply": "2023-11-20T16:02:19.466931Z"
    },
    "papermill": {
     "duration": 0.024314,
     "end_time": "2023-11-20T16:02:19.470733",
     "exception": false,
     "start_time": "2023-11-20T16:02:19.446419",
     "status": "completed"
    },
    "tags": []
   },
   "outputs": [
    {
     "data": {
      "text/plain": [
       "Index(['rank', 'finalWorth', 'category', 'personName', 'age', 'country',\n",
       "       'city', 'source', 'industries', 'countryOfCitizenship', 'organization',\n",
       "       'selfMade', 'status', 'gender', 'birthDate', 'lastName', 'firstName',\n",
       "       'title', 'date', 'state', 'residenceStateRegion', 'birthYear',\n",
       "       'birthMonth', 'birthDay', 'cpi_country', 'cpi_change_country',\n",
       "       'gdp_country', 'gross_tertiary_education_enrollment',\n",
       "       'gross_primary_education_enrollment_country', 'life_expectancy_country',\n",
       "       'tax_revenue_country_country', 'total_tax_rate_country',\n",
       "       'population_country', 'latitude_country', 'longitude_country'],\n",
       "      dtype='object')"
      ]
     },
     "execution_count": 18,
     "metadata": {},
     "output_type": "execute_result"
    }
   ],
   "source": [
    "d1.columns"
   ]
  },
  {
   "cell_type": "markdown",
   "id": "7964e91f",
   "metadata": {
    "papermill": {
     "duration": 0.013313,
     "end_time": "2023-11-20T16:02:19.497697",
     "exception": false,
     "start_time": "2023-11-20T16:02:19.484384",
     "status": "completed"
    },
    "tags": []
   },
   "source": [
    "## 1. **Wealth Distribution:**\n",
    "   - What is the distribution of wealth among different categories?\n",
    "   - Are there certain industries that dominate the top ranks in terms of wealth?\n",
    "\n",
    "## Conclusion:\n",
    "### Top Industries Ranking in Wealth\n",
    "\n",
    "1. **Automotive**.\n",
    "2. **Technology**\n",
    "3. **Telecom**\n",
    "4. **Logistics**\n",
    "5. **Metals and Mining**\n",
    "### Insights:\n",
    "- These industries dominate the top ranks in wealth, emphasizing their economic significance and success.\n",
    "- The financial achievements within each sector contribute to the overall diversity of wealth distribution."
   ]
  },
  {
   "cell_type": "code",
   "execution_count": 19,
   "id": "67aa57e4",
   "metadata": {
    "execution": {
     "iopub.execute_input": "2023-11-20T16:02:19.526823Z",
     "iopub.status.busy": "2023-11-20T16:02:19.526128Z",
     "iopub.status.idle": "2023-11-20T16:02:20.081707Z",
     "shell.execute_reply": "2023-11-20T16:02:20.079967Z"
    },
    "papermill": {
     "duration": 0.573638,
     "end_time": "2023-11-20T16:02:20.084602",
     "exception": false,
     "start_time": "2023-11-20T16:02:19.510964",
     "status": "completed"
    },
    "tags": []
   },
   "outputs": [
    {
     "data": {
      "text/plain": [
       "Text(0.5, 1.0, 'Wealth distribution based on industries or categories')"
      ]
     },
     "execution_count": 19,
     "metadata": {},
     "output_type": "execute_result"
    },
    {
     "data": {
      "image/png": "[encoded data removed]",
      "text/plain": [
       "<Figure size 640x480 with 1 Axes>"
      ]
     },
     "metadata": {},
     "output_type": "display_data"
    }
   ],
   "source": [
    "sorted_df=d1.sort_values(by='finalWorth', ascending=False)\n",
    "sns.barplot(data=sorted_df,x=\"finalWorth\",y=\"category\",palette='viridis',errorbar=None)\n",
    "plt.title(\"Wealth distribution based on industries or categories\")"
   ]
  },
  {
   "cell_type": "markdown",
   "id": "4286a874",
   "metadata": {
    "papermill": {
     "duration": 0.013774,
     "end_time": "2023-11-20T16:02:20.112580",
     "exception": false,
     "start_time": "2023-11-20T16:02:20.098806",
     "status": "completed"
    },
    "tags": []
   },
   "source": [
    "## 2. **Top Industries:**\n",
    "   - Which industries have the highest representation among the individuals in the dataset?\n",
    "  \n",
    "## Conclusion:\n",
    "   - Finance and investments, manufacturing, technology, fashion and retail are the sectors which contains most male billionaires.\n",
    "   - Whereas the female billionaires are mainly seen in fashion and retail, food and beverages, and manufacturing industries.\n",
    "   - Based on the analysis, it can be concluded that the majority of billionaires fall within the age bracket of 50 to 70.\n"
   ]
  },
  {
   "cell_type": "code",
   "execution_count": 20,
   "id": "73d4fd99",
   "metadata": {
    "execution": {
     "iopub.execute_input": "2023-11-20T16:02:20.145106Z",
     "iopub.status.busy": "2023-11-20T16:02:20.144653Z",
     "iopub.status.idle": "2023-11-20T16:02:21.022335Z",
     "shell.execute_reply": "2023-11-20T16:02:21.021129Z"
    },
    "papermill": {
     "duration": 0.897928,
     "end_time": "2023-11-20T16:02:21.024943",
     "exception": false,
     "start_time": "2023-11-20T16:02:20.127015",
     "status": "completed"
    },
    "tags": []
   },
   "outputs": [
    {
     "data": {
      "text/plain": [
       "Text(0.5, 1.0, 'Industries with highest representation')"
      ]
     },
     "execution_count": 20,
     "metadata": {},
     "output_type": "execute_result"
    },
    {
     "data": {
      "image/png": "[encoded data removed]",
      "text/plain": [
       "<Figure size 562x500 with 1 Axes>"
      ]
     },
     "metadata": {},
     "output_type": "display_data"
    }
   ],
   "source": [
    "sns.displot(data=d1,x=\"industries\",hue=\"gender\",palette=\"viridis\",element=\"step\")\n",
    "plt.xticks(rotation=\"vertical\")\n",
    "plt.title(\"Industries with highest representation\")"
   ]
  },
  {
   "cell_type": "code",
   "execution_count": 28,
   "id": "c229f465",
   "metadata": {
    "execution": {
     "iopub.execute_input": "2023-11-20T16:02:21.612255Z",
     "iopub.status.busy": "2023-11-20T16:02:21.611596Z",
     "iopub.status.idle": "2023-11-20T16:02:21.618337Z",
     "shell.execute_reply": "2023-11-20T16:02:21.617262Z"
    },
    "papermill": {
     "duration": 0.02603,
     "end_time": "2023-11-20T16:02:21.620608",
     "exception": false,
     "start_time": "2023-11-20T16:02:21.594578",
     "status": "completed"
    },
    "tags": []
   },
   "outputs": [],
   "source": [
    "data[\"age\"].fillna(data[\"age\"].mean(),inplace=True)"
   ]
  },
  {
   "cell_type": "code",
   "execution_count": 43,
   "metadata": {},
   "outputs": [],
   "source": [
    "d1[\"age\"]=pd.to_numeric(d1[\"age\"],errors=\"coerce\")"
   ]
  },
  {
   "cell_type": "code",
   "execution_count": 52,
   "metadata": {},
   "outputs": [
    {
     "data": {
      "text/plain": [
       "Series([], Name: age, dtype: float64)"
      ]
     },
     "execution_count": 52,
     "metadata": {},
     "output_type": "execute_result"
    }
   ],
   "source": [
    "d1[\"age\"].dropna()"
   ]
  },
  {
   "cell_type": "code",
   "execution_count": 31,
   "id": "27c6afe3",
   "metadata": {
    "execution": {
     "iopub.execute_input": "2023-11-20T16:02:21.654843Z",
     "iopub.status.busy": "2023-11-20T16:02:21.653800Z",
     "iopub.status.idle": "2023-11-20T16:02:22.130173Z",
     "shell.execute_reply": "2023-11-20T16:02:22.128923Z"
    },
    "papermill": {
     "duration": 0.496201,
     "end_time": "2023-11-20T16:02:22.132675",
     "exception": false,
     "start_time": "2023-11-20T16:02:21.636474",
     "status": "completed"
    },
    "tags": []
   },
   "outputs": [
    {
     "name": "stdout",
     "output_type": "stream",
     "text": [
      "The skewness of age column is: -0.07903682421854166\n"
     ]
    },
    {
     "data": {
      "text/plain": [
       "<seaborn.axisgrid.FacetGrid at 0x7fbafc4e3a60>"
      ]
     },
     "execution_count": 31,
     "metadata": {},
     "output_type": "execute_result"
    },
    {
     "data": {
      "image/png": "[encoded data removed]",
      "text/plain": [
       "<Figure size 500x500 with 1 Axes>"
      ]
     },
     "metadata": {},
     "output_type": "display_data"
    }
   ],
   "source": [
    "print(\"The skewness of age column is:\",data[\"age\"].skew())\n",
    "sns.displot(data=data,x=\"age\",kind=\"hist\",bins=50)"
   ]
  },
  {
   "cell_type": "markdown",
   "id": "ced313d0",
   "metadata": {
    "papermill": {
     "duration": 0.080264,
     "end_time": "2023-11-20T16:02:22.229280",
     "exception": false,
     "start_time": "2023-11-20T16:02:22.149016",
     "status": "completed"
    },
    "tags": []
   },
   "source": [
    "## 3. **Geographical Analysis:**\n",
    "   - Which countries have the highest representation among the wealthiest individuals?\n",
    "   - Is there a correlation between the country of citizenship and the individual's current residence?\n",
    "\n",
    "## Conclusion:\n",
    "   - The top five countries with most billionaires are UNited States, China, India, Germany, and United Kingdom.\n",
    "   - "
   ]
  },
  {
   "cell_type": "code",
   "execution_count": 66,
   "id": "a81d4ec3",
   "metadata": {
    "execution": {
     "iopub.execute_input": "2023-11-20T16:02:22.264490Z",
     "iopub.status.busy": "2023-11-20T16:02:22.264096Z",
     "iopub.status.idle": "2023-11-20T16:02:22.273489Z",
     "shell.execute_reply": "2023-11-20T16:02:22.272641Z"
    },
    "papermill": {
     "duration": 0.029602,
     "end_time": "2023-11-20T16:02:22.275531",
     "exception": false,
     "start_time": "2023-11-20T16:02:22.245929",
     "status": "completed"
    },
    "tags": []
   },
   "outputs": [
    {
     "data": {
      "text/html": [
       "<div>\n",
       "<style scoped>\n",
       "    .dataframe tbody tr th:only-of-type {\n",
       "        vertical-align: middle;\n",
       "    }\n",
       "\n",
       "    .dataframe tbody tr th {\n",
       "        vertical-align: top;\n",
       "    }\n",
       "\n",
       "    .dataframe thead th {\n",
       "        text-align: right;\n",
       "    }\n",
       "</style>\n",
       "<table border=\"1\" class=\"dataframe\">\n",
       "  <thead>\n",
       "    <tr style=\"text-align: right;\">\n",
       "      <th></th>\n",
       "      <th>count</th>\n",
       "    </tr>\n",
       "    <tr>\n",
       "      <th>country</th>\n",
       "      <th></th>\n",
       "    </tr>\n",
       "  </thead>\n",
       "  <tbody>\n",
       "    <tr>\n",
       "      <th>United States</th>\n",
       "      <td>754</td>\n",
       "    </tr>\n",
       "    <tr>\n",
       "      <th>China</th>\n",
       "      <td>523</td>\n",
       "    </tr>\n",
       "    <tr>\n",
       "      <th>India</th>\n",
       "      <td>157</td>\n",
       "    </tr>\n",
       "    <tr>\n",
       "      <th>Germany</th>\n",
       "      <td>102</td>\n",
       "    </tr>\n",
       "    <tr>\n",
       "      <th>United Kingdom</th>\n",
       "      <td>82</td>\n",
       "    </tr>\n",
       "  </tbody>\n",
       "</table>\n",
       "</div>"
      ],
      "text/plain": [
       "                count\n",
       "country              \n",
       "United States     754\n",
       "China             523\n",
       "India             157\n",
       "Germany           102\n",
       "United Kingdom     82"
      ]
     },
     "execution_count": 66,
     "metadata": {},
     "output_type": "execute_result"
    }
   ],
   "source": [
    "d1[\"country\"].value_counts().head(5).to_frame()"
   ]
  },
  {
   "cell_type": "code",
   "execution_count": 67,
   "id": "eea1d34c",
   "metadata": {
    "papermill": {
     "duration": 0.016279,
     "end_time": "2023-11-20T16:02:22.308560",
     "exception": false,
     "start_time": "2023-11-20T16:02:22.292281",
     "status": "completed"
    },
    "tags": []
   },
   "outputs": [
    {
     "data": {
      "text/plain": [
       "countryOfCitizenship\n",
       "United States           735\n",
       "China                   491\n",
       "India                   169\n",
       "Germany                 126\n",
       "Russia                  104\n",
       "                       ... \n",
       "Belize                    1\n",
       "Eswatini (Swaziland)      1\n",
       "Venezuela                 1\n",
       "Algeria                   1\n",
       "Panama                    1\n",
       "Name: count, Length: 77, dtype: int64"
      ]
     },
     "execution_count": 67,
     "metadata": {},
     "output_type": "execute_result"
    }
   ],
   "source": [
    "d1[\"countryOfCitizenship\"].value_counts()"
   ]
  },
  {
   "cell_type": "code",
   "execution_count": null,
   "id": "9bec3892",
   "metadata": {
    "papermill": {
     "duration": 0.016273,
     "end_time": "2023-11-20T16:02:22.341330",
     "exception": false,
     "start_time": "2023-11-20T16:02:22.325057",
     "status": "completed"
    },
    "tags": []
   },
   "outputs": [],
   "source": []
  }
 ],
 "metadata": {
  "kaggle": {
   "accelerator": "none",
   "dataSources": [
    {
     "datasetId": 3795419,
     "sourceId": 6570253,
     "sourceType": "datasetVersion"
    }
   ],
   "dockerImageVersionId": 30558,
   "isGpuEnabled": false,
   "isInternetEnabled": true,
   "language": "python",
   "sourceType": "notebook"
  },
  "kernelspec": {
   "display_name": "Python 3",
   "language": "python",
   "name": "python3"
  },
  "language_info": {
   "codemirror_mode": {
    "name": "ipython",
    "version": 3
   },
   "file_extension": ".py",
   "mimetype": "text/x-python",
   "name": "python",
   "nbconvert_exporter": "python",
   "pygments_lexer": "ipython3",
   "version": "3.10.8"
  },
  "papermill": {
   "default_parameters": {},
   "duration": 11.599771,
   "end_time": "2023-11-20T16:02:22.979616",
   "environment_variables": {},
   "exception": null,
   "input_path": "__notebook__.ipynb",
   "output_path": "__notebook__.ipynb",
   "parameters": {},
   "start_time": "2023-11-20T16:02:11.379845",
   "version": "2.4.0"
  }
 },
 "nbformat": 4,
 "nbformat_minor": 5
}
